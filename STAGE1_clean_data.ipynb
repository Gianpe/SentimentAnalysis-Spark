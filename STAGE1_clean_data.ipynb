{
 "cells": [
  {
   "cell_type": "markdown",
   "metadata": {},
   "source": [
    "###### IMPORTING AND CONNECTION"
   ]
  },
  {
   "cell_type": "code",
   "execution_count": 1,
   "metadata": {},
   "outputs": [],
   "source": [
    "from pyspark import SparkContext\n",
    "from pyspark.sql import SparkSession\n",
    "from pyspark.sql.functions import isnan, when, count, col,trim\n",
    "from pyspark import SparkContext\n",
    "import pyspark.sql.functions as f\n",
    "from pyspark.sql.functions import *\n",
    "from pyspark.ml.feature import Tokenizer\n",
    "from pyspark.ml.feature import StopWordsRemover\n",
    "import subprocess\n",
    "\n",
    "spark = (SparkSession.builder.appName(\"ddam-8-step-1\").config('spark.some.config.opttion','some-value').getOrCreate())"
   ]
  },
  {
   "cell_type": "markdown",
   "metadata": {},
   "source": [
    "## Function defnitions"
   ]
  },
  {
   "cell_type": "code",
   "execution_count": 2,
   "metadata": {},
   "outputs": [],
   "source": [
    "def clean_text(df, colname):\n",
    "    # remove hashtags\n",
    "    df = df.withColumn(colname, regexp_replace(col(colname), 'https?:[^ ]*( |$)', ''))\n",
    "    # remove url's\n",
    "    df = df.withColumn(colname, regexp_replace(col(colname), '#[^ ]*( |$)', ''))\n",
    "    # change punctuation to delimeters\n",
    "    df = df.withColumn(colname, regexp_replace(col(colname), \"[.,;:!?-]+\", ' '))\n",
    "    # remove any other special chars and digits\n",
    "    df = df.withColumn(colname, regexp_replace(col(colname), \"[^A-Za-z ]\", ''))\n",
    "    # collapse multiple whitechars\n",
    "    df = df.withColumn(colname, regexp_replace(col(colname), ' +', ' '))\n",
    "    # remove trailing spaces\n",
    "    df = df.withColumn(colname, regexp_replace(col(colname), ' $', ''))\n",
    "    \n",
    "    return df"
   ]
  },
  {
   "cell_type": "code",
   "execution_count": 3,
   "metadata": {},
   "outputs": [],
   "source": [
    "#function to save spark dataframes\n",
    "def save(df, filename):\n",
    "    some_path = f\"hdfs://kddrtserver12.isti.cnr.it:9000/user/hpsa06/{filename}\"\n",
    "    subprocess.call([\"hadoop\", \"fs\", \"-rm\", \"-r\", some_path])\n",
    "    df.write.csv(some_path, header = True)"
   ]
  },
  {
   "cell_type": "markdown",
   "metadata": {},
   "source": [
    "# ANALYSIS DATAFRAME"
   ]
  },
  {
   "cell_type": "code",
   "execution_count": 4,
   "metadata": {},
   "outputs": [],
   "source": [
    "df_tr = spark.read.csv(\"hdfs://kddrtserver12.isti.cnr.it:9000/user/hpsa06/hashtag_donaldtrump.csv\", sep=\",\", quote='\"', header=True, escape='\"', multiLine=True)\n",
    "df_bi = spark.read.csv(\"hdfs://kddrtserver12.isti.cnr.it:9000/user/hpsa06/hashtag_joebiden.csv\", sep=\",\", quote='\"', header=True, escape='\"', multiLine=True)"
   ]
  },
  {
   "cell_type": "code",
   "execution_count": 5,
   "metadata": {},
   "outputs": [
    {
     "name": "stdout",
     "output_type": "stream",
     "text": [
      "Trump file count: 970919\n",
      "Biden file count: 776886\n"
     ]
    }
   ],
   "source": [
    "print(\"Trump file count:\", df_tr.count())\n",
    "print(\"Biden file count:\", df_bi.count())"
   ]
  },
  {
   "cell_type": "code",
   "execution_count": 6,
   "metadata": {},
   "outputs": [
    {
     "name": "stdout",
     "output_type": "stream",
     "text": [
      "Missing values Trump:\n",
      "+----------+--------+-----+-----+-------------+------+-------+---------+----------------+----------------+--------------+--------------------+-------------+------+------+------+-------+---------+------+----------+------------+\n",
      "|created_at|tweet_id|tweet|likes|retweet_count|source|user_id|user_name|user_screen_name|user_description|user_join_date|user_followers_count|user_location|   lat|  long|  city|country|continent| state|state_code|collected_at|\n",
      "+----------+--------+-----+-----+-------------+------+-------+---------+----------------+----------------+--------------+--------------------+-------------+------+------+------+-------+---------+------+----------+------------+\n",
      "|         0|       0|    0|    0|            0|   876|      0|       16|               0|          101266|             0|                   0|       294953|525200|525200|743732| 528171|   528154|650299|    670494|           0|\n",
      "+----------+--------+-----+-----+-------------+------+-------+---------+----------------+----------------+--------------+--------------------+-------------+------+------+------+-------+---------+------+----------+------------+\n",
      "\n"
     ]
    }
   ],
   "source": [
    "print(\"Missing values Trump:\")\n",
    "df_tr.select([count(when(isnan(c) | col(c).isNull(), c)).alias(c) for c in df_tr.columns]).show()"
   ]
  },
  {
   "cell_type": "code",
   "execution_count": 7,
   "metadata": {},
   "outputs": [
    {
     "data": {
      "text/html": [
       "<div>\n",
       "<style scoped>\n",
       "    .dataframe tbody tr th:only-of-type {\n",
       "        vertical-align: middle;\n",
       "    }\n",
       "\n",
       "    .dataframe tbody tr th {\n",
       "        vertical-align: top;\n",
       "    }\n",
       "\n",
       "    .dataframe thead th {\n",
       "        text-align: right;\n",
       "    }\n",
       "</style>\n",
       "<table border=\"1\" class=\"dataframe\">\n",
       "  <thead>\n",
       "    <tr style=\"text-align: right;\">\n",
       "      <th></th>\n",
       "      <th>source</th>\n",
       "      <th>user_name</th>\n",
       "      <th>user_description</th>\n",
       "      <th>user_location</th>\n",
       "      <th>lat</th>\n",
       "      <th>long</th>\n",
       "      <th>city</th>\n",
       "      <th>country</th>\n",
       "      <th>continent</th>\n",
       "      <th>state</th>\n",
       "      <th>state_code</th>\n",
       "    </tr>\n",
       "  </thead>\n",
       "  <tbody>\n",
       "    <tr>\n",
       "      <th>0</th>\n",
       "      <td>876</td>\n",
       "      <td>16</td>\n",
       "      <td>101266</td>\n",
       "      <td>294953</td>\n",
       "      <td>525200</td>\n",
       "      <td>525200</td>\n",
       "      <td>743732</td>\n",
       "      <td>528171</td>\n",
       "      <td>528154</td>\n",
       "      <td>650299</td>\n",
       "      <td>670494</td>\n",
       "    </tr>\n",
       "  </tbody>\n",
       "</table>\n",
       "</div>"
      ],
      "text/plain": [
       "   source  user_name  user_description  user_location     lat    long    city  \\\n",
       "0     876         16            101266         294953  525200  525200  743732   \n",
       "\n",
       "   country  continent   state  state_code  \n",
       "0   528171     528154  650299      670494  "
      ]
     },
     "execution_count": 7,
     "metadata": {},
     "output_type": "execute_result"
    }
   ],
   "source": [
    "df_tr_mv = df_tr.select([count(when(isnan(c) | col(c).isNull(), c)).alias(c) for c in df_tr.columns])\n",
    "\n",
    "df_tr_mv = df_tr_mv.drop('user_followers_count','created_at','tweet_id','tweet','likes','retweet_count','user_id','user_screen_name','user_join_date','user_f','collected_at')\n",
    "\n",
    "df_tr_mv.createOrReplaceTempView('trump_mv')\n",
    "spark.sql('SELECT * FROM trump_mv').toPandas()"
   ]
  },
  {
   "cell_type": "code",
   "execution_count": 7,
   "metadata": {},
   "outputs": [
    {
     "name": "stdout",
     "output_type": "stream",
     "text": [
      "Missing values Biden:\n",
      "+----------+--------+-----+-----+-------------+------+-------+---------+----------------+----------------+--------------+--------------------+-------------+------+------+------+-------+---------+------+----------+------------+\n",
      "|created_at|tweet_id|tweet|likes|retweet_count|source|user_id|user_name|user_screen_name|user_description|user_join_date|user_followers_count|user_location|   lat|  long|  city|country|continent| state|state_code|collected_at|\n",
      "+----------+--------+-----+-----+-------------+------+-------+---------+----------------+----------------+--------------+--------------------+-------------+------+------+------+-------+---------+------+----------+------------+\n",
      "|         0|       0|    0|    0|            0|   713|      0|       18|               0|           82006|             0|                   0|       233791|421593|421593|590014| 423107|   423089|516691|    532277|           0|\n",
      "+----------+--------+-----+-----+-------------+------+-------+---------+----------------+----------------+--------------+--------------------+-------------+------+------+------+-------+---------+------+----------+------------+\n",
      "\n"
     ]
    }
   ],
   "source": [
    "print(\"Missing values Biden:\")\n",
    "df_bi.select([count(when(isnan(c) | col(c).isNull(), c)).alias(c) for c in df_bi.columns]).show()"
   ]
  },
  {
   "cell_type": "code",
   "execution_count": 8,
   "metadata": {},
   "outputs": [
    {
     "data": {
      "text/html": [
       "<div>\n",
       "<style scoped>\n",
       "    .dataframe tbody tr th:only-of-type {\n",
       "        vertical-align: middle;\n",
       "    }\n",
       "\n",
       "    .dataframe tbody tr th {\n",
       "        vertical-align: top;\n",
       "    }\n",
       "\n",
       "    .dataframe thead th {\n",
       "        text-align: right;\n",
       "    }\n",
       "</style>\n",
       "<table border=\"1\" class=\"dataframe\">\n",
       "  <thead>\n",
       "    <tr style=\"text-align: right;\">\n",
       "      <th></th>\n",
       "      <th>source</th>\n",
       "      <th>user_name</th>\n",
       "      <th>user_description</th>\n",
       "      <th>user_location</th>\n",
       "      <th>lat</th>\n",
       "      <th>long</th>\n",
       "      <th>city</th>\n",
       "      <th>country</th>\n",
       "      <th>continent</th>\n",
       "      <th>state</th>\n",
       "      <th>state_code</th>\n",
       "    </tr>\n",
       "  </thead>\n",
       "  <tbody>\n",
       "    <tr>\n",
       "      <th>0</th>\n",
       "      <td>713</td>\n",
       "      <td>18</td>\n",
       "      <td>82006</td>\n",
       "      <td>233791</td>\n",
       "      <td>421593</td>\n",
       "      <td>421593</td>\n",
       "      <td>590014</td>\n",
       "      <td>423107</td>\n",
       "      <td>423089</td>\n",
       "      <td>516691</td>\n",
       "      <td>532277</td>\n",
       "    </tr>\n",
       "  </tbody>\n",
       "</table>\n",
       "</div>"
      ],
      "text/plain": [
       "   source  user_name  user_description  user_location     lat    long    city  \\\n",
       "0     713         18             82006         233791  421593  421593  590014   \n",
       "\n",
       "   country  continent   state  state_code  \n",
       "0   423107     423089  516691      532277  "
      ]
     },
     "execution_count": 8,
     "metadata": {},
     "output_type": "execute_result"
    }
   ],
   "source": [
    "df_bi_mv = df_bi.select([count(when(isnan(c) | col(c).isNull(), c)).alias(c) for c in df_tr.columns])\n",
    "df_bi_mv = df_bi_mv.drop('user_followers_count','created_at','tweet_id','tweet','likes','retweet_count','user_id','user_screen_name','user_join_date','user_f','collected_at')\n",
    "\n",
    "df_bi_mv.createOrReplaceTempView('biden_mv')\n",
    "spark.sql('SELECT * FROM biden_mv').toPandas()"
   ]
  },
  {
   "cell_type": "markdown",
   "metadata": {},
   "source": [
    "There are no missing tweet text values - all other missing values we take care of in the later analysis"
   ]
  },
  {
   "cell_type": "code",
   "execution_count": 6,
   "metadata": {},
   "outputs": [],
   "source": [
    "df_tr=df_tr.drop('tweet_id','retweet_count','source','user_id','user_name','user_screen_name','user_description','user_join_date','user_followers_count','user_location','country','continent','state','state_code','collected_at')\n",
    "df_bi=df_bi.drop('tweet_id','retweet_count','source','user_id','user_name','user_screen_name','user_description','user_join_date','user_followers_count','user_location','country','continent','state','state_code','collected_at')"
   ]
  },
  {
   "cell_type": "code",
   "execution_count": 7,
   "metadata": {
    "scrolled": false
   },
   "outputs": [
    {
     "name": "stdout",
     "output_type": "stream",
     "text": [
      "Trump:\n",
      "+-------------------+--------------------+-----+----------+------------+----------+\n",
      "|         created_at|               tweet|likes|       lat|        long|      city|\n",
      "+-------------------+--------------------+-----+----------+------------+----------+\n",
      "|2020-10-15 00:00:01|#Elecciones2020 |...|  0.0|  25.77427|   -80.19366|      null|\n",
      "|2020-10-15 00:00:01|Usa 2020, Trump c...| 26.0|      null|        null|      null|\n",
      "|2020-10-15 00:00:02|#Trump: As a stud...|  2.0|45.5202471|-122.6741949|  Portland|\n",
      "|2020-10-15 00:00:02|2 hours since las...|  0.0|      null|        null|      null|\n",
      "|2020-10-15 00:00:08|You get a tie! An...|  4.0|38.8949924| -77.0365581|Washington|\n",
      "+-------------------+--------------------+-----+----------+------------+----------+\n",
      "only showing top 5 rows\n",
      "\n"
     ]
    }
   ],
   "source": [
    "print(\"Trump:\")\n",
    "df_tr.show(5)"
   ]
  },
  {
   "cell_type": "code",
   "execution_count": 11,
   "metadata": {},
   "outputs": [
    {
     "name": "stdout",
     "output_type": "stream",
     "text": [
      "number of duplicates in Trump file:  1351\n",
      "number of duplicates in Biden file:  1851\n"
     ]
    }
   ],
   "source": [
    "#check for duplicates\n",
    "print(\"number of duplicates in Trump file: \", (df_tr.count())-(df_tr.distinct().count()))\n",
    "print(\"number of duplicates in Biden file: \", (df_bi.count())-(df_bi.distinct().count()))"
   ]
  },
  {
   "cell_type": "code",
   "execution_count": 8,
   "metadata": {},
   "outputs": [],
   "source": [
    "df_tr = df_tr.distinct()\n",
    "df_bi = df_bi.distinct()"
   ]
  },
  {
   "cell_type": "code",
   "execution_count": 9,
   "metadata": {},
   "outputs": [],
   "source": [
    "clean_tr = clean_text(df_tr, \"tweet\")\n",
    "clean_bi = clean_text(df_bi, \"tweet\")"
   ]
  },
  {
   "cell_type": "code",
   "execution_count": 11,
   "metadata": {},
   "outputs": [
    {
     "data": {
      "text/html": [
       "<div>\n",
       "<style scoped>\n",
       "    .dataframe tbody tr th:only-of-type {\n",
       "        vertical-align: middle;\n",
       "    }\n",
       "\n",
       "    .dataframe tbody tr th {\n",
       "        vertical-align: top;\n",
       "    }\n",
       "\n",
       "    .dataframe thead th {\n",
       "        text-align: right;\n",
       "    }\n",
       "</style>\n",
       "<table border=\"1\" class=\"dataframe\">\n",
       "  <thead>\n",
       "    <tr style=\"text-align: right;\">\n",
       "      <th></th>\n",
       "      <th>created_at</th>\n",
       "      <th>tweet</th>\n",
       "      <th>likes</th>\n",
       "      <th>lat</th>\n",
       "      <th>long</th>\n",
       "      <th>city</th>\n",
       "    </tr>\n",
       "  </thead>\n",
       "  <tbody>\n",
       "    <tr>\n",
       "      <th>0</th>\n",
       "      <td>2020-10-15 00:12:49</td>\n",
       "      <td>#WhiteHouse #Trump #MelaniaTrump: Any of you E...</td>\n",
       "      <td>0.0</td>\n",
       "      <td>-31.952712100000003</td>\n",
       "      <td>115.86047959999999</td>\n",
       "      <td>Perth</td>\n",
       "    </tr>\n",
       "    <tr>\n",
       "      <th>1</th>\n",
       "      <td>2020-10-15 00:16:13</td>\n",
       "      <td>Under Section 230 Twitter and Facebook limit R...</td>\n",
       "      <td>0.0</td>\n",
       "      <td>39.7837304</td>\n",
       "      <td>-100.4458825</td>\n",
       "      <td>None</td>\n",
       "    </tr>\n",
       "    <tr>\n",
       "      <th>2</th>\n",
       "      <td>2020-10-15 00:16:35</td>\n",
       "      <td>#Trump: It's never gonna be the end for us, is...</td>\n",
       "      <td>2.0</td>\n",
       "      <td>45.5202471</td>\n",
       "      <td>-122.6741949</td>\n",
       "      <td>Portland</td>\n",
       "    </tr>\n",
       "    <tr>\n",
       "      <th>3</th>\n",
       "      <td>2020-10-15 00:22:57</td>\n",
       "      <td>@tteribul @MelliBitch @du_mob @jtlittle19 @Taz...</td>\n",
       "      <td>4.0</td>\n",
       "      <td>None</td>\n",
       "      <td>None</td>\n",
       "      <td>None</td>\n",
       "    </tr>\n",
       "    <tr>\n",
       "      <th>4</th>\n",
       "      <td>2020-10-15 00:25:09</td>\n",
       "      <td>@andymstone Yeah and why do you let disinforma...</td>\n",
       "      <td>0.0</td>\n",
       "      <td>39.7837304</td>\n",
       "      <td>-100.4458825</td>\n",
       "      <td>None</td>\n",
       "    </tr>\n",
       "  </tbody>\n",
       "</table>\n",
       "</div>"
      ],
      "text/plain": [
       "            created_at                                              tweet  \\\n",
       "0  2020-10-15 00:12:49  #WhiteHouse #Trump #MelaniaTrump: Any of you E...   \n",
       "1  2020-10-15 00:16:13  Under Section 230 Twitter and Facebook limit R...   \n",
       "2  2020-10-15 00:16:35  #Trump: It's never gonna be the end for us, is...   \n",
       "3  2020-10-15 00:22:57  @tteribul @MelliBitch @du_mob @jtlittle19 @Taz...   \n",
       "4  2020-10-15 00:25:09  @andymstone Yeah and why do you let disinforma...   \n",
       "\n",
       "  likes                  lat                long      city  \n",
       "0   0.0  -31.952712100000003  115.86047959999999     Perth  \n",
       "1   0.0           39.7837304        -100.4458825      None  \n",
       "2   2.0           45.5202471        -122.6741949  Portland  \n",
       "3   4.0                 None                None      None  \n",
       "4   0.0           39.7837304        -100.4458825      None  "
      ]
     },
     "execution_count": 11,
     "metadata": {},
     "output_type": "execute_result"
    }
   ],
   "source": [
    "df_tr.createOrReplaceTempView('trump')\n",
    "spark.sql('SELECT * FROM trump LIMIT 5').toPandas()"
   ]
  },
  {
   "cell_type": "code",
   "execution_count": 12,
   "metadata": {
    "scrolled": true
   },
   "outputs": [
    {
     "data": {
      "text/html": [
       "<div>\n",
       "<style scoped>\n",
       "    .dataframe tbody tr th:only-of-type {\n",
       "        vertical-align: middle;\n",
       "    }\n",
       "\n",
       "    .dataframe tbody tr th {\n",
       "        vertical-align: top;\n",
       "    }\n",
       "\n",
       "    .dataframe thead th {\n",
       "        text-align: right;\n",
       "    }\n",
       "</style>\n",
       "<table border=\"1\" class=\"dataframe\">\n",
       "  <thead>\n",
       "    <tr style=\"text-align: right;\">\n",
       "      <th></th>\n",
       "      <th>created_at</th>\n",
       "      <th>tweet</th>\n",
       "      <th>likes</th>\n",
       "      <th>lat</th>\n",
       "      <th>long</th>\n",
       "      <th>city</th>\n",
       "    </tr>\n",
       "  </thead>\n",
       "  <tbody>\n",
       "    <tr>\n",
       "      <th>0</th>\n",
       "      <td>2020-10-15 00:12:49</td>\n",
       "      <td>Any of you EVER tell the truth tested positive...</td>\n",
       "      <td>0.0</td>\n",
       "      <td>-31.952712100000003</td>\n",
       "      <td>115.86047959999999</td>\n",
       "      <td>Perth</td>\n",
       "    </tr>\n",
       "    <tr>\n",
       "      <th>1</th>\n",
       "      <td>2020-10-15 00:16:13</td>\n",
       "      <td>Under Section Twitter and Facebook limit Rudy ...</td>\n",
       "      <td>0.0</td>\n",
       "      <td>39.7837304</td>\n",
       "      <td>-100.4458825</td>\n",
       "      <td>None</td>\n",
       "    </tr>\n",
       "    <tr>\n",
       "      <th>2</th>\n",
       "      <td>2020-10-15 00:16:35</td>\n",
       "      <td>Its never gonna be the end for us is it Crowd ...</td>\n",
       "      <td>2.0</td>\n",
       "      <td>45.5202471</td>\n",
       "      <td>-122.6741949</td>\n",
       "      <td>Portland</td>\n",
       "    </tr>\n",
       "    <tr>\n",
       "      <th>3</th>\n",
       "      <td>2020-10-15 00:22:57</td>\n",
       "      <td>tteribul MelliBitch dumob jtlittle Tazdad fuff...</td>\n",
       "      <td>4.0</td>\n",
       "      <td>None</td>\n",
       "      <td>None</td>\n",
       "      <td>None</td>\n",
       "    </tr>\n",
       "    <tr>\n",
       "      <th>4</th>\n",
       "      <td>2020-10-15 00:25:09</td>\n",
       "      <td>andymstone Yeah and why do you let disinformat...</td>\n",
       "      <td>0.0</td>\n",
       "      <td>39.7837304</td>\n",
       "      <td>-100.4458825</td>\n",
       "      <td>None</td>\n",
       "    </tr>\n",
       "  </tbody>\n",
       "</table>\n",
       "</div>"
      ],
      "text/plain": [
       "            created_at                                              tweet  \\\n",
       "0  2020-10-15 00:12:49  Any of you EVER tell the truth tested positive...   \n",
       "1  2020-10-15 00:16:13  Under Section Twitter and Facebook limit Rudy ...   \n",
       "2  2020-10-15 00:16:35  Its never gonna be the end for us is it Crowd ...   \n",
       "3  2020-10-15 00:22:57  tteribul MelliBitch dumob jtlittle Tazdad fuff...   \n",
       "4  2020-10-15 00:25:09  andymstone Yeah and why do you let disinformat...   \n",
       "\n",
       "  likes                  lat                long      city  \n",
       "0   0.0  -31.952712100000003  115.86047959999999     Perth  \n",
       "1   0.0           39.7837304        -100.4458825      None  \n",
       "2   2.0           45.5202471        -122.6741949  Portland  \n",
       "3   4.0                 None                None      None  \n",
       "4   0.0           39.7837304        -100.4458825      None  "
      ]
     },
     "execution_count": 12,
     "metadata": {},
     "output_type": "execute_result"
    }
   ],
   "source": [
    "clean_tr.createOrReplaceTempView('trump1')\n",
    "spark.sql('SELECT * FROM trump1 LIMIT 5').toPandas()"
   ]
  },
  {
   "cell_type": "code",
   "execution_count": 13,
   "metadata": {},
   "outputs": [
    {
     "data": {
      "text/html": [
       "<div>\n",
       "<style scoped>\n",
       "    .dataframe tbody tr th:only-of-type {\n",
       "        vertical-align: middle;\n",
       "    }\n",
       "\n",
       "    .dataframe tbody tr th {\n",
       "        vertical-align: top;\n",
       "    }\n",
       "\n",
       "    .dataframe thead th {\n",
       "        text-align: right;\n",
       "    }\n",
       "</style>\n",
       "<table border=\"1\" class=\"dataframe\">\n",
       "  <thead>\n",
       "    <tr style=\"text-align: right;\">\n",
       "      <th></th>\n",
       "      <th>created_at</th>\n",
       "      <th>tweet</th>\n",
       "      <th>likes</th>\n",
       "      <th>lat</th>\n",
       "      <th>long</th>\n",
       "      <th>city</th>\n",
       "    </tr>\n",
       "  </thead>\n",
       "  <tbody>\n",
       "    <tr>\n",
       "      <th>0</th>\n",
       "      <td>2020-10-15 00:03:17</td>\n",
       "      <td>Hunter #Biden introduced his father, then-Vice...</td>\n",
       "      <td>1.0</td>\n",
       "      <td>40.7127281</td>\n",
       "      <td>-74.0060152</td>\n",
       "      <td>New York</td>\n",
       "    </tr>\n",
       "    <tr>\n",
       "      <th>1</th>\n",
       "      <td>2020-10-15 00:16:13</td>\n",
       "      <td>Under Section 230 Twitter and Facebook limit R...</td>\n",
       "      <td>0.0</td>\n",
       "      <td>39.7837304</td>\n",
       "      <td>-100.4458825</td>\n",
       "      <td>None</td>\n",
       "    </tr>\n",
       "    <tr>\n",
       "      <th>2</th>\n",
       "      <td>2020-10-15 00:22:02</td>\n",
       "      <td>No, Today we're going to make the evil nutter ...</td>\n",
       "      <td>1.0</td>\n",
       "      <td>None</td>\n",
       "      <td>None</td>\n",
       "      <td>None</td>\n",
       "    </tr>\n",
       "    <tr>\n",
       "      <th>3</th>\n",
       "      <td>2020-10-15 00:22:57</td>\n",
       "      <td>@tteribul @MelliBitch @du_mob @jtlittle19 @Taz...</td>\n",
       "      <td>4.0</td>\n",
       "      <td>None</td>\n",
       "      <td>None</td>\n",
       "      <td>None</td>\n",
       "    </tr>\n",
       "    <tr>\n",
       "      <th>4</th>\n",
       "      <td>2020-10-15 00:33:06</td>\n",
       "      <td>#WheresHunter #HunterBidenEmails #JoeBiden #El...</td>\n",
       "      <td>0.0</td>\n",
       "      <td>38.475840600000005</td>\n",
       "      <td>-80.84084150000001</td>\n",
       "      <td>None</td>\n",
       "    </tr>\n",
       "  </tbody>\n",
       "</table>\n",
       "</div>"
      ],
      "text/plain": [
       "            created_at                                              tweet  \\\n",
       "0  2020-10-15 00:03:17  Hunter #Biden introduced his father, then-Vice...   \n",
       "1  2020-10-15 00:16:13  Under Section 230 Twitter and Facebook limit R...   \n",
       "2  2020-10-15 00:22:02  No, Today we're going to make the evil nutter ...   \n",
       "3  2020-10-15 00:22:57  @tteribul @MelliBitch @du_mob @jtlittle19 @Taz...   \n",
       "4  2020-10-15 00:33:06  #WheresHunter #HunterBidenEmails #JoeBiden #El...   \n",
       "\n",
       "  likes                 lat                long      city  \n",
       "0   1.0          40.7127281         -74.0060152  New York  \n",
       "1   0.0          39.7837304        -100.4458825      None  \n",
       "2   1.0                None                None      None  \n",
       "3   4.0                None                None      None  \n",
       "4   0.0  38.475840600000005  -80.84084150000001      None  "
      ]
     },
     "execution_count": 13,
     "metadata": {},
     "output_type": "execute_result"
    }
   ],
   "source": [
    "df_bi.createOrReplaceTempView('biden')\n",
    "spark.sql('SELECT * FROM biden LIMIT 5').toPandas()"
   ]
  },
  {
   "cell_type": "code",
   "execution_count": 14,
   "metadata": {},
   "outputs": [
    {
     "data": {
      "text/html": [
       "<div>\n",
       "<style scoped>\n",
       "    .dataframe tbody tr th:only-of-type {\n",
       "        vertical-align: middle;\n",
       "    }\n",
       "\n",
       "    .dataframe tbody tr th {\n",
       "        vertical-align: top;\n",
       "    }\n",
       "\n",
       "    .dataframe thead th {\n",
       "        text-align: right;\n",
       "    }\n",
       "</style>\n",
       "<table border=\"1\" class=\"dataframe\">\n",
       "  <thead>\n",
       "    <tr style=\"text-align: right;\">\n",
       "      <th></th>\n",
       "      <th>created_at</th>\n",
       "      <th>tweet</th>\n",
       "      <th>likes</th>\n",
       "      <th>lat</th>\n",
       "      <th>long</th>\n",
       "      <th>city</th>\n",
       "    </tr>\n",
       "  </thead>\n",
       "  <tbody>\n",
       "    <tr>\n",
       "      <th>0</th>\n",
       "      <td>2020-10-15 00:03:17</td>\n",
       "      <td>Hunter introduced his father then Vice Preside...</td>\n",
       "      <td>1.0</td>\n",
       "      <td>40.7127281</td>\n",
       "      <td>-74.0060152</td>\n",
       "      <td>New York</td>\n",
       "    </tr>\n",
       "    <tr>\n",
       "      <th>1</th>\n",
       "      <td>2020-10-15 00:16:13</td>\n",
       "      <td>Under Section Twitter and Facebook limit Rudy ...</td>\n",
       "      <td>0.0</td>\n",
       "      <td>39.7837304</td>\n",
       "      <td>-100.4458825</td>\n",
       "      <td>None</td>\n",
       "    </tr>\n",
       "    <tr>\n",
       "      <th>2</th>\n",
       "      <td>2020-10-15 00:22:02</td>\n",
       "      <td>No Today were going to make the evil nutter a ...</td>\n",
       "      <td>1.0</td>\n",
       "      <td>None</td>\n",
       "      <td>None</td>\n",
       "      <td>None</td>\n",
       "    </tr>\n",
       "    <tr>\n",
       "      <th>3</th>\n",
       "      <td>2020-10-15 00:22:57</td>\n",
       "      <td>tteribul MelliBitch dumob jtlittle Tazdad fuff...</td>\n",
       "      <td>4.0</td>\n",
       "      <td>None</td>\n",
       "      <td>None</td>\n",
       "      <td>None</td>\n",
       "    </tr>\n",
       "    <tr>\n",
       "      <th>4</th>\n",
       "      <td>2020-10-15 00:33:06</td>\n",
       "      <td></td>\n",
       "      <td>0.0</td>\n",
       "      <td>38.475840600000005</td>\n",
       "      <td>-80.84084150000001</td>\n",
       "      <td>None</td>\n",
       "    </tr>\n",
       "  </tbody>\n",
       "</table>\n",
       "</div>"
      ],
      "text/plain": [
       "            created_at                                              tweet  \\\n",
       "0  2020-10-15 00:03:17  Hunter introduced his father then Vice Preside...   \n",
       "1  2020-10-15 00:16:13  Under Section Twitter and Facebook limit Rudy ...   \n",
       "2  2020-10-15 00:22:02  No Today were going to make the evil nutter a ...   \n",
       "3  2020-10-15 00:22:57  tteribul MelliBitch dumob jtlittle Tazdad fuff...   \n",
       "4  2020-10-15 00:33:06                                                      \n",
       "\n",
       "  likes                 lat                long      city  \n",
       "0   1.0          40.7127281         -74.0060152  New York  \n",
       "1   0.0          39.7837304        -100.4458825      None  \n",
       "2   1.0                None                None      None  \n",
       "3   4.0                None                None      None  \n",
       "4   0.0  38.475840600000005  -80.84084150000001      None  "
      ]
     },
     "execution_count": 14,
     "metadata": {},
     "output_type": "execute_result"
    }
   ],
   "source": [
    "clean_bi.createOrReplaceTempView('biden1')\n",
    "spark.sql('SELECT * FROM biden1 LIMIT 5').toPandas()"
   ]
  },
  {
   "cell_type": "code",
   "execution_count": 11,
   "metadata": {},
   "outputs": [],
   "source": [
    "#saving the new dataframes in hdfs\n",
    "save(clean_tr, 'df_Trump.csv')\n",
    "save(clean_bi, 'df_Biden.csv')"
   ]
  },
  {
   "cell_type": "code",
   "execution_count": 12,
   "metadata": {},
   "outputs": [
    {
     "name": "stdout",
     "output_type": "stream",
     "text": [
      "Trump file count: 969568\n",
      "Biden file count: 775035\n"
     ]
    }
   ],
   "source": [
    "print(\"Trump file count:\", clean_tr.count())\n",
    "print(\"Biden file count:\", clean_bi.count())"
   ]
  },
  {
   "cell_type": "markdown",
   "metadata": {},
   "source": [
    "# Model Dataframe"
   ]
  },
  {
   "cell_type": "code",
   "execution_count": 16,
   "metadata": {},
   "outputs": [],
   "source": [
    "df_test = spark.read.csv(\"hdfs://kddrtserver12.isti.cnr.it:9000/user/hpsa06/test.csv\", header = True, inferSchema = True)\n",
    "df_train = spark.read.csv(\"hdfs://kddrtserver12.isti.cnr.it:9000/user/hpsa06/train.csv\", header = True, inferSchema = True)"
   ]
  },
  {
   "cell_type": "code",
   "execution_count": 17,
   "metadata": {},
   "outputs": [],
   "source": [
    "df_train_d = df_train.drop('selected_text','TextID')\n",
    "df_test_d = df_test.drop('TextID')"
   ]
  },
  {
   "cell_type": "code",
   "execution_count": 18,
   "metadata": {},
   "outputs": [
    {
     "data": {
      "text/plain": [
       "31015"
      ]
     },
     "execution_count": 18,
     "metadata": {},
     "output_type": "execute_result"
    }
   ],
   "source": [
    "df_union = df_train_d.union(df_test_d)\n",
    "df_union.count()"
   ]
  },
  {
   "cell_type": "code",
   "execution_count": 19,
   "metadata": {},
   "outputs": [
    {
     "name": "stdout",
     "output_type": "stream",
     "text": [
      "number of missing value rows:  3\n"
     ]
    }
   ],
   "source": [
    "#check for duplicates\n",
    "print(\"number of missing value rows: \", (df_union.count())-(df_union.dropna().count()))\n",
    "df_union = df_union.dropna()"
   ]
  },
  {
   "cell_type": "code",
   "execution_count": 20,
   "metadata": {},
   "outputs": [
    {
     "name": "stdout",
     "output_type": "stream",
     "text": [
      "number of duplicates:  0\n"
     ]
    }
   ],
   "source": [
    "#check for duplicates\n",
    "print(\"number of duplicates: \", (df_union.count())-(df_union.distinct().count()))\n",
    "df_union = df_union.distinct()"
   ]
  },
  {
   "cell_type": "code",
   "execution_count": 21,
   "metadata": {},
   "outputs": [
    {
     "data": {
      "text/html": [
       "<div>\n",
       "<style scoped>\n",
       "    .dataframe tbody tr th:only-of-type {\n",
       "        vertical-align: middle;\n",
       "    }\n",
       "\n",
       "    .dataframe tbody tr th {\n",
       "        vertical-align: top;\n",
       "    }\n",
       "\n",
       "    .dataframe thead th {\n",
       "        text-align: right;\n",
       "    }\n",
       "</style>\n",
       "<table border=\"1\" class=\"dataframe\">\n",
       "  <thead>\n",
       "    <tr style=\"text-align: right;\">\n",
       "      <th></th>\n",
       "      <th>text</th>\n",
       "      <th>sentiment</th>\n",
       "    </tr>\n",
       "  </thead>\n",
       "  <tbody>\n",
       "    <tr>\n",
       "      <th>0</th>\n",
       "      <td>i lost all my friends, i`m alone and sleepy..i...</td>\n",
       "      <td>negative</td>\n",
       "    </tr>\n",
       "    <tr>\n",
       "      <th>1</th>\n",
       "      <td>yeah I was thinking about that ,ahaha</td>\n",
       "      <td>positive</td>\n",
       "    </tr>\n",
       "    <tr>\n",
       "      <th>2</th>\n",
       "      <td>The birds are out,, oh man... That`s NOT cool ...</td>\n",
       "      <td>negative</td>\n",
       "    </tr>\n",
       "    <tr>\n",
       "      <th>3</th>\n",
       "      <td>I`m missing crab legs and attending my going a...</td>\n",
       "      <td>negative</td>\n",
       "    </tr>\n",
       "    <tr>\n",
       "      <th>4</th>\n",
       "      <td>there were attempts to somehow extend inner c...</td>\n",
       "      <td>neutral</td>\n",
       "    </tr>\n",
       "  </tbody>\n",
       "</table>\n",
       "</div>"
      ],
      "text/plain": [
       "                                                text sentiment\n",
       "0  i lost all my friends, i`m alone and sleepy..i...  negative\n",
       "1              yeah I was thinking about that ,ahaha  positive\n",
       "2  The birds are out,, oh man... That`s NOT cool ...  negative\n",
       "3  I`m missing crab legs and attending my going a...  negative\n",
       "4   there were attempts to somehow extend inner c...   neutral"
      ]
     },
     "execution_count": 21,
     "metadata": {},
     "output_type": "execute_result"
    }
   ],
   "source": [
    "df_union.createOrReplaceTempView('model')\n",
    "spark.sql('SELECT * FROM model LIMIT 5').toPandas()"
   ]
  },
  {
   "cell_type": "code",
   "execution_count": 22,
   "metadata": {},
   "outputs": [
    {
     "data": {
      "text/html": [
       "<div>\n",
       "<style scoped>\n",
       "    .dataframe tbody tr th:only-of-type {\n",
       "        vertical-align: middle;\n",
       "    }\n",
       "\n",
       "    .dataframe tbody tr th {\n",
       "        vertical-align: top;\n",
       "    }\n",
       "\n",
       "    .dataframe thead th {\n",
       "        text-align: right;\n",
       "    }\n",
       "</style>\n",
       "<table border=\"1\" class=\"dataframe\">\n",
       "  <thead>\n",
       "    <tr style=\"text-align: right;\">\n",
       "      <th></th>\n",
       "      <th>text</th>\n",
       "      <th>sentiment</th>\n",
       "    </tr>\n",
       "  </thead>\n",
       "  <tbody>\n",
       "    <tr>\n",
       "      <th>0</th>\n",
       "      <td>i lost all my friends im alone and sleepy i wa...</td>\n",
       "      <td>negative</td>\n",
       "    </tr>\n",
       "    <tr>\n",
       "      <th>1</th>\n",
       "      <td>yeah I was thinking about that ahaha</td>\n",
       "      <td>positive</td>\n",
       "    </tr>\n",
       "    <tr>\n",
       "      <th>2</th>\n",
       "      <td>The birds are out oh man Thats NOT cool I didn...</td>\n",
       "      <td>negative</td>\n",
       "    </tr>\n",
       "    <tr>\n",
       "      <th>3</th>\n",
       "      <td>Im missing crab legs and attending my going aw...</td>\n",
       "      <td>negative</td>\n",
       "    </tr>\n",
       "    <tr>\n",
       "      <th>4</th>\n",
       "      <td>there were attempts to somehow extend inner c...</td>\n",
       "      <td>neutral</td>\n",
       "    </tr>\n",
       "  </tbody>\n",
       "</table>\n",
       "</div>"
      ],
      "text/plain": [
       "                                                text sentiment\n",
       "0  i lost all my friends im alone and sleepy i wa...  negative\n",
       "1               yeah I was thinking about that ahaha  positive\n",
       "2  The birds are out oh man Thats NOT cool I didn...  negative\n",
       "3  Im missing crab legs and attending my going aw...  negative\n",
       "4   there were attempts to somehow extend inner c...   neutral"
      ]
     },
     "execution_count": 22,
     "metadata": {},
     "output_type": "execute_result"
    }
   ],
   "source": [
    "clean_mod = clean_text(df_union, \"text\")\n",
    "clean_mod.createOrReplaceTempView('model')\n",
    "spark.sql('SELECT * FROM model LIMIT 5').toPandas()"
   ]
  },
  {
   "cell_type": "code",
   "execution_count": 23,
   "metadata": {},
   "outputs": [],
   "source": [
    "save(clean_mod,'df_Model.csv')"
   ]
  },
  {
   "cell_type": "code",
   "execution_count": null,
   "metadata": {},
   "outputs": [],
   "source": []
  }
 ],
 "metadata": {
  "kernelspec": {
   "display_name": "Python 3",
   "language": "python",
   "name": "python3"
  },
  "language_info": {
   "codemirror_mode": {
    "name": "ipython",
    "version": 3
   },
   "file_extension": ".py",
   "mimetype": "text/x-python",
   "name": "python",
   "nbconvert_exporter": "python",
   "pygments_lexer": "ipython3",
   "version": "3.7.6"
  }
 },
 "nbformat": 4,
 "nbformat_minor": 4
}
